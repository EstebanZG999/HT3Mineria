{
 "cells": [
  {
   "cell_type": "markdown",
   "metadata": {},
   "source": [
    "# Modelos de Regresion"
   ]
  },
  {
   "cell_type": "markdown",
   "metadata": {},
   "source": [
    "### Preparar el entorno y cargar los datos"
   ]
  },
  {
   "cell_type": "code",
   "execution_count": 3,
   "metadata": {},
   "outputs": [
    {
     "name": "stdout",
     "output_type": "stream",
     "text": [
      "Tamaño de X_train: (1168, 79), X_test: (292, 79)\n",
      "Tamaño de y_train: (1168,), y_test: (292,)\n"
     ]
    }
   ],
   "source": [
    "import pandas as pd\n",
    "import numpy as np\n",
    "import matplotlib.pyplot as plt\n",
    "import seaborn as sns\n",
    "from sklearn.model_selection import train_test_split\n",
    "from sklearn.preprocessing import StandardScaler\n",
    "from sklearn.metrics import mean_absolute_error, mean_squared_error, r2_score\n",
    "\n",
    "# Carga del dataset\n",
    "data_path = \"../data/train.csv\"\n",
    "df = pd.read_csv(data_path)\n",
    "\n",
    "# Preprocesamiento inicial\n",
    "df['SalePrice_log'] = np.log(df['SalePrice'])\n",
    "\n",
    "# Eliminamos columnas innecesarias\n",
    "df.drop(columns=['Id'], inplace=True)\n",
    "\n",
    "# Manejo de valores nulos basado en el análisis exploratorio\n",
    "for col in df.select_dtypes(include=['number']).columns:\n",
    "    df.loc[:, col] = df[col].fillna(df[col].median())  # Numéricas con la mediana\n",
    "\n",
    "for col in df.select_dtypes(include=['object']).columns:\n",
    "    df.loc[:, col] = df[col].fillna(df[col].mode()[0])  # Categóricas con la moda\n",
    "\n",
    "# División en conjunto de entrenamiento y prueba\n",
    "X = df.drop(columns=['SalePrice', 'SalePrice_log'])  # Variables predictoras\n",
    "y = df['SalePrice_log']  # Variable objetivo\n",
    "\n",
    "X_train, X_test, y_train, y_test = train_test_split(X, y, test_size=0.2, random_state=42)\n",
    "\n",
    "# Confirmación de los tamaños\n",
    "print(f\"Tamaño de X_train: {X_train.shape}, X_test: {X_test.shape}\")\n",
    "print(f\"Tamaño de y_train: {y_train.shape}, y_test: {y_test.shape}\")"
   ]
  }
 ],
 "metadata": {
  "kernelspec": {
   "display_name": "Python 3",
   "language": "python",
   "name": "python3"
  },
  "language_info": {
   "codemirror_mode": {
    "name": "ipython",
    "version": 3
   },
   "file_extension": ".py",
   "mimetype": "text/x-python",
   "name": "python",
   "nbconvert_exporter": "python",
   "pygments_lexer": "ipython3",
   "version": "3.12.5"
  }
 },
 "nbformat": 4,
 "nbformat_minor": 2
}
